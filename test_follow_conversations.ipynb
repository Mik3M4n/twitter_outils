{
 "cells": [
  {
   "cell_type": "markdown",
   "metadata": {},
   "source": [
    "# Example of usage of follow_conversations.py\n",
    "\n",
    "This code allows to reconstruct conversations on twitter by fetching the origin of a reply and getting all replies and replies-to replies. \n"
   ]
  },
  {
   "cell_type": "code",
   "execution_count": 9,
   "metadata": {
    "collapsed": true
   },
   "outputs": [],
   "source": [
    "import twitter\n",
    "import json\n",
    "from follow_conversations import *\n",
    "\n",
    "def print_tweets(filename):\n",
    "    for line in open(filename):\n",
    "        print (twitter.Status.NewFromJsonDict(json.loads(line)).full_text)\n",
    "        print (\"\")\n",
    "        \n",
    "def get_tweet(api, tweet_id):\n",
    "    my_tw = api.get_status(tweet_id, tweet_mode='extended', full_text=True)\n",
    "    return my_tw\n",
    "\n",
    "\n",
    "def read_tweets(filename):\n",
    "    tw_list=[]\n",
    "    for line in open(filename):\n",
    "        tw_list.append(twitter.Status.NewFromJsonDict(json.loads(line)))\n",
    "    return tw_list"
   ]
  },
  {
   "cell_type": "markdown",
   "metadata": {},
   "source": [
    "#### Get authentication and a valid api"
   ]
  },
  {
   "cell_type": "code",
   "execution_count": 2,
   "metadata": {
    "collapsed": true
   },
   "outputs": [],
   "source": [
    "my_auth = get_auth()\n",
    "my_api = get_api(my_auth)"
   ]
  },
  {
   "cell_type": "markdown",
   "metadata": {},
   "source": [
    "## Example 1. Get a tweet which is not a reply and fetch all replies to it"
   ]
  },
  {
   "cell_type": "markdown",
   "metadata": {},
   "source": [
    "#### Get an example tweet"
   ]
  },
  {
   "cell_type": "code",
   "execution_count": 3,
   "metadata": {
    "collapsed": false
   },
   "outputs": [
    {
     "name": "stdout",
     "output_type": "stream",
     "text": [
      "<class 'tweepy.models.Status'>\n",
      "How would the media have reacted If Putin had said he wanted Hillary to win? I don’t think Putin cared who won. He wanted to create chaos and division. The media is doing exactly what the Russians wanted with their hysteria and anti-Trump propaganda. #ThursdayThoughts\n"
     ]
    }
   ],
   "source": [
    "test_id = 1019913657369718784\n",
    "test_tweet = get_tweet(my_api, test_id)\n",
    "\n",
    "print(type(test_tweet))\n",
    "print(test_tweet.full_text)"
   ]
  },
  {
   "cell_type": "markdown",
   "metadata": {},
   "source": [
    "The above tweet is not a reply. let's save it to a file and then look for replies to it"
   ]
  },
  {
   "cell_type": "markdown",
   "metadata": {},
   "source": [
    "#### Save tweet to a .jsonl file to prepare input for follow_conversations.py "
   ]
  },
  {
   "cell_type": "code",
   "execution_count": 4,
   "metadata": {
    "collapsed": false
   },
   "outputs": [],
   "source": [
    "fout = 'Streams/example_input.jsonl'\n",
    "\n",
    "with open(fout, 'a+') as f:  \n",
    "    f.write(json.dumps(test_tweet._json) + '\\n')"
   ]
  },
  {
   "cell_type": "markdown",
   "metadata": {},
   "source": [
    "Check: read the file and print tweet text"
   ]
  },
  {
   "cell_type": "code",
   "execution_count": 5,
   "metadata": {
    "collapsed": false
   },
   "outputs": [
    {
     "name": "stdout",
     "output_type": "stream",
     "text": [
      "How would the media have reacted If Putin had said he wanted Hillary to win? I don’t think Putin cared who won. He wanted to create chaos and division. The media is doing exactly what the Russians wanted with their hysteria and anti-Trump propaganda. #ThursdayThoughts\n",
      "\n"
     ]
    }
   ],
   "source": [
    "print_tweets(fout)"
   ]
  },
  {
   "cell_type": "markdown",
   "metadata": {},
   "source": [
    "#### Launch follow_conversations"
   ]
  },
  {
   "cell_type": "code",
   "execution_count": 6,
   "metadata": {
    "collapsed": false
   },
   "outputs": [
    {
     "name": "stdout",
     "output_type": "stream",
     "text": [
      "Saving replies to: How would the media have reacted If Putin had said he wanted Hillary to win? I don’t think Putin cared who won. He wanted to create chaos and division. The media is doing exactly what the Russians wanted with their hysteria and anti-Trump propaganda. #ThursdayThoughts\n",
      "Output path: Replies/replies_to_1019913657369718784.jsonl\n"
     ]
    }
   ],
   "source": [
    "outdir = 'Replies'\n",
    "follow_conversations(fout, my_api, outdir)"
   ]
  },
  {
   "cell_type": "markdown",
   "metadata": {},
   "source": [
    "#### Check: read the output file and print text of each tweet in the convesation"
   ]
  },
  {
   "cell_type": "code",
   "execution_count": 8,
   "metadata": {
    "collapsed": false
   },
   "outputs": [
    {
     "name": "stdout",
     "output_type": "stream",
     "text": [
      "How would the media have reacted If Putin had said he wanted Hillary to win? I don’t think Putin cared who won. He wanted to create chaos and division. The media is doing exactly what the Russians wanted with their hysteria and anti-Trump propaganda. #ThursdayThoughts\n",
      "\n",
      "@Feisty_FL And they keep saying our POTUS was played by him...smh\n",
      "\n",
      "@Feisty_FL Keep in mind Putin and Trump are members of a very small, elite club... they are probably laughing their asses of about this whole thing...two scoops anyone? &lt;giggle emoji&gt;\n",
      "\n",
      "@Feisty_FL And the ChiCom has joined in.\n",
      "\n",
      "@Feisty_FL  https://t.co/OetnG0E4Um\n",
      "\n",
      "@Feisty_FL They wanted the weakest candidate that could win, so at first Bernie, then Trump, turns out Trump is pretty awesome.  They also wanted to avoid the many wars HRC would have started\n",
      "\n",
      "@Feisty_FL @jstines3 There's an old Twilight Zone episode that reminds me of this situation. Its titled The Monsters are Due on Maple Street. \n",
      "https://t.co/v8n7uowOdY\n",
      "\n",
      "@Feisty_FL So if Putin did get Trump elected, when are we going to see all the wonderful things hes getting from Trump🤷‍♂️\n",
      "\n",
      "@Feisty_FL You hit the nail on the head\n",
      "\n",
      "@Feisty_FL Exactly right.  Putin knows that a divided America is a vulnerable America\n",
      "\n",
      "@Feisty_FL Everyone is so so upset of Trumps meeting when oblunder, clintons and Bush all had met Russian Putin. They just hate Trump more than they love America\n",
      "\n",
      "@Feisty_FL Was he supposed to tell President Trump he didn't want him to win right before their talk? Wouldn't be much talking if he did\n",
      "\n",
      "@Feisty_FL Media played into Putin's hands! Outraged and angry politicians played by Putin. So are all leftists! So who are Putin's puppets? All of the above! Browder is a British citizen now. He's running scared. Poisonings are in UK.\n",
      "\n",
      "@Feisty_FL I think he really did want #CrookedHillary to win in order for #America to be weak and unstable.\n",
      "Can you imagine what life would be like had she won?\n",
      "\n",
      "@Feisty_FL Exactly! I think Putin thought, like polls &amp; media told everybody, that Hillary was a shoe-in so to create chaos they had to go after Hillary competitors!\n",
      "\n"
     ]
    }
   ],
   "source": [
    "print_tweets('Replies/replies_to_1019913657369718784.jsonl')"
   ]
  },
  {
   "cell_type": "markdown",
   "metadata": {},
   "source": [
    "So, the code succesfully retrieved the replies to the original tweet. In the output file, we can read the full conversation"
   ]
  },
  {
   "cell_type": "markdown",
   "metadata": {},
   "source": [
    "## Example 2. Get a tweet which is a reply. Fetch the origin of the conversation, and then the full conversation"
   ]
  },
  {
   "cell_type": "markdown",
   "metadata": {},
   "source": [
    "Let's now start from a tweet which is itself a reply. I take it from the above conversation"
   ]
  },
  {
   "cell_type": "code",
   "execution_count": 14,
   "metadata": {
    "collapsed": false
   },
   "outputs": [],
   "source": [
    "tw_list = read_tweets('Replies/replies_to_1019913657369718784.jsonl')\n",
    "tw_ex_reply = tw_list[5]"
   ]
  },
  {
   "cell_type": "markdown",
   "metadata": {},
   "source": [
    "I repeat the steps above"
   ]
  },
  {
   "cell_type": "code",
   "execution_count": 15,
   "metadata": {
    "collapsed": true
   },
   "outputs": [],
   "source": [
    "fout = 'Streams/example_input_reply.jsonl'\n",
    "\n",
    "with open(fout, 'a+') as f:  \n",
    "    f.write(json.dumps(tw_ex_reply._json) + '\\n')"
   ]
  },
  {
   "cell_type": "code",
   "execution_count": 16,
   "metadata": {
    "collapsed": false
   },
   "outputs": [
    {
     "name": "stdout",
     "output_type": "stream",
     "text": [
      "@Feisty_FL They wanted the weakest candidate that could win, so at first Bernie, then Trump, turns out Trump is pretty awesome.  They also wanted to avoid the many wars HRC would have started\n",
      "\n"
     ]
    }
   ],
   "source": [
    "print_tweets(fout)"
   ]
  },
  {
   "cell_type": "code",
   "execution_count": 17,
   "metadata": {
    "collapsed": false
   },
   "outputs": [
    {
     "name": "stdout",
     "output_type": "stream",
     "text": [
      "Saving replies to: How would the media have reacted If Putin had said he wanted Hillary to win? I don’t think Putin cared who won. He wanted to create chaos and division. The media is doing exactly what the Russians wanted with their hysteria and anti-Trump propaganda. #ThursdayThoughts\n",
      "Output path: Replies/replies_to_1019926288738418688.jsonl\n"
     ]
    }
   ],
   "source": [
    "outdir = 'Replies'\n",
    "follow_conversations(fout, my_api, outdir)"
   ]
  },
  {
   "cell_type": "code",
   "execution_count": 18,
   "metadata": {
    "collapsed": false
   },
   "outputs": [
    {
     "name": "stdout",
     "output_type": "stream",
     "text": [
      "How would the media have reacted If Putin had said he wanted Hillary to win? I don’t think Putin cared who won. He wanted to create chaos and division. The media is doing exactly what the Russians wanted with their hysteria and anti-Trump propaganda. #ThursdayThoughts\n",
      "\n",
      "@Feisty_FL And they keep saying our POTUS was played by him...smh\n",
      "\n",
      "@Feisty_FL Keep in mind Putin and Trump are members of a very small, elite club... they are probably laughing their asses of about this whole thing...two scoops anyone? &lt;giggle emoji&gt;\n",
      "\n",
      "@Feisty_FL And the ChiCom has joined in.\n",
      "\n",
      "@Feisty_FL  https://t.co/OetnG0E4Um\n",
      "\n",
      "@Feisty_FL They wanted the weakest candidate that could win, so at first Bernie, then Trump, turns out Trump is pretty awesome.  They also wanted to avoid the many wars HRC would have started\n",
      "\n",
      "@Feisty_FL @jstines3 There's an old Twilight Zone episode that reminds me of this situation. Its titled The Monsters are Due on Maple Street. \n",
      "https://t.co/v8n7uowOdY\n",
      "\n",
      "@Feisty_FL So if Putin did get Trump elected, when are we going to see all the wonderful things hes getting from Trump🤷‍♂️\n",
      "\n",
      "@Feisty_FL You hit the nail on the head\n",
      "\n",
      "@Feisty_FL Exactly right.  Putin knows that a divided America is a vulnerable America\n",
      "\n",
      "@Feisty_FL Everyone is so so upset of Trumps meeting when oblunder, clintons and Bush all had met Russian Putin. They just hate Trump more than they love America\n",
      "\n",
      "@Feisty_FL Was he supposed to tell President Trump he didn't want him to win right before their talk? Wouldn't be much talking if he did\n",
      "\n",
      "@Feisty_FL Media played into Putin's hands! Outraged and angry politicians played by Putin. So are all leftists! So who are Putin's puppets? All of the above! Browder is a British citizen now. He's running scared. Poisonings are in UK.\n",
      "\n",
      "@Feisty_FL I think he really did want #CrookedHillary to win in order for #America to be weak and unstable.\n",
      "Can you imagine what life would be like had she won?\n",
      "\n",
      "@Feisty_FL Exactly! I think Putin thought, like polls &amp; media told everybody, that Hillary was a shoe-in so to create chaos they had to go after Hillary competitors!\n",
      "\n"
     ]
    }
   ],
   "source": [
    "print_tweets('Replies/replies_to_1019926288738418688.jsonl')"
   ]
  },
  {
   "cell_type": "markdown",
   "metadata": {},
   "source": [
    "So, the algorithm started from a reply, it succesfully fetched the origin of the conversation and then retrieved it entirely."
   ]
  }
 ],
 "metadata": {
  "kernelspec": {
   "display_name": "Python 3",
   "language": "python",
   "name": "python3"
  },
  "language_info": {
   "codemirror_mode": {
    "name": "ipython",
    "version": 3
   },
   "file_extension": ".py",
   "mimetype": "text/x-python",
   "name": "python",
   "nbconvert_exporter": "python",
   "pygments_lexer": "ipython3",
   "version": "3.6.5"
  }
 },
 "nbformat": 4,
 "nbformat_minor": 2
}
